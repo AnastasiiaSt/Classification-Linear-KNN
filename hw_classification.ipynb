{
 "cells": [
  {
   "cell_type": "markdown",
   "metadata": {},
   "source": [
    "# Classification. Linear models and KNN"
   ]
  },
  {
   "cell_type": "code",
   "execution_count": 1,
   "metadata": {},
   "outputs": [],
   "source": [
    "import os\n",
    "import numpy as np\n",
    "import pandas as pd\n",
    "import seaborn as sns\n",
    "import random\n",
    "import matplotlib.pyplot as plt\n",
    "from collections import Counter\n",
    "import re"
   ]
  },
  {
   "cell_type": "code",
   "execution_count": 2,
   "metadata": {},
   "outputs": [],
   "source": [
    "from sklearn.pipeline import Pipeline\n",
    "from sklearn.compose import ColumnTransformer\n",
    "from sklearn.model_selection import train_test_split, cross_validate\n",
    "from sklearn.metrics import plot_confusion_matrix, accuracy_score\n",
    "from sklearn.neighbors import KNeighborsClassifier\n",
    "from sklearn.preprocessing import StandardScaler, OneHotEncoder\n",
    "from sklearn.preprocessing import MinMaxScaler\n",
    "from sklearn.preprocessing import LabelEncoder\n",
    "from sklearn.linear_model import LogisticRegressionCV\n",
    "from sklearn.linear_model import LogisticRegression\n",
    "from sklearn.model_selection import GridSearchCV\n",
    "from sklearn.model_selection import RandomizedSearchCV\n",
    "from sklearn.linear_model import SGDClassifier\n",
    "from sklearn.metrics import accuracy_score\n",
    "from sklearn.metrics import f1_score"
   ]
  },
  {
   "cell_type": "markdown",
   "metadata": {},
   "source": [
    "## Part 1: Implementing Logistic Regression"
   ]
  },
  {
   "cell_type": "markdown",
   "metadata": {},
   "source": [
    "In this task you need to implement Logistic Regression with l2 regularization using gradient descent algorithm."
   ]
  },
  {
   "cell_type": "markdown",
   "metadata": {},
   "source": [
    "Logistic Regression loss:\n",
    "$$ L(w) = \\dfrac{1}{N}\\sum_{i=1}^N \\log(1 + e^{-\\langle w, x_i \\rangle y_i}) + \\frac{1}{2C} \\lVert w \\rVert^2  \\to \\min_w$$\n",
    "$$\\langle w, x_i \\rangle = \\sum_{j=1}^n w_{j}x_{ij} + w_{0},$$ $$ y_{i} \\in \\{-1, 1\\}$$ where $n$ is the number of features and $N$ is the number of samples."
   ]
  },
  {
   "cell_type": "markdown",
   "metadata": {},
   "source": [
    "Gradient descent step:\n",
    "$$w^{(t+1)} := w^{(t)} + \\dfrac{\\eta}{N}\\sum_{i=1}^N y_ix_i \\Big(1 - \\dfrac{1}{1 + exp(-\\langle w^{(t)}, x_i \\rangle y_i)}\\Big) - \\eta \\frac{1}{C} w,$$\n",
    "where $\\eta$ is the learning rate."
   ]
  },
  {
   "cell_type": "markdown",
   "metadata": {},
   "source": [
    "**(2 points)** Implement the algorithm and use it to classify the digits (https://scikit-learn.org/stable/modules/generated/sklearn.datasets.load_digits.html) into \"even\" and \"odd\" categories. \"Even\" and \"Odd\" classes  should correspond to {-1, 1} labels."
   ]
  },
  {
   "cell_type": "markdown",
   "metadata": {},
   "source": [
    "Stopping criteria: either the number of iterations exceeds *max_iter* or $||w^{(t+1)} - w^{(t)}||_2 < tol$."
   ]
  },
  {
   "cell_type": "code",
   "execution_count": 3,
   "metadata": {},
   "outputs": [],
   "source": [
    "from sklearn.exceptions import NotFittedError"
   ]
  },
  {
   "cell_type": "code",
   "execution_count": 4,
   "metadata": {},
   "outputs": [],
   "source": [
    "class CustomLogisticRegression:\n",
    "    _estimator_type = \"classifier\"\n",
    "    \n",
    "    def __init__(self, eta=0.001, max_iter=1000, C=1.0, tol=1e-5, random_state=42, zero_init=False):\n",
    "        \"\"\"Logistic Regression classifier.\n",
    "        \n",
    "        Args:\n",
    "            eta: float, default=0.001\n",
    "                Learning rate.\n",
    "            max_iter: int, default=1000\n",
    "                Maximum number of iterations taken for the solvers to converge.\n",
    "            C: float, default=1.0\n",
    "                Inverse of regularization strength; must be a positive float.\n",
    "                Smaller values specify stronger regularization.\n",
    "            tol: float, default=1e-5\n",
    "                Tolerance for stopping criteria.\n",
    "            random_state: int, default=42\n",
    "                Random state.\n",
    "            zero_init: bool, default=False\n",
    "                Zero weight initialization.\n",
    "        \"\"\"\n",
    "        self.eta = eta\n",
    "        self.max_iter = max_iter\n",
    "        self.C = C\n",
    "        self.tol = tol\n",
    "        self.random_state = np.random.RandomState(seed=random_state)\n",
    "        self.zero_init = zero_init\n",
    "         \n",
    "    def get_sigmoid(self, X, weights):\n",
    "        \"\"\"Compute the sigmoid value.\"\"\"\n",
    "        z = np.dot(X, weights.T)\n",
    "        y_pred = 1 / (1 + np.exp(-z))\n",
    "        return y_pred\n",
    "    \n",
    "    def get_loss(self, x, weights, y):\n",
    "        \"\"\"Calculate the loss.\"\"\"\n",
    "        y_pred = self.get_sigmoid(x, weights)\n",
    "        loss = - (np.sum(np.dot(y, np.log(y_pred)) + np.dot((1 - y), np.log(1 - y_pred))) + \n",
    "                  (np.sqrt(np.sum(weights ** 2)) / (2 * self.C))) / y.shape[0]\n",
    "        return loss\n",
    "     \n",
    "    def fit(self, X, y):\n",
    "        \"\"\"Fit the model.\n",
    "        \n",
    "        Args:\n",
    "            X: numpy array of shape (n_samples, n_features)\n",
    "            y: numpy array of shape (n_samples,)\n",
    "                Target vector.        \n",
    "        \"\"\"\n",
    "        X_ext = np.hstack([np.ones((X.shape[0], 1)), X]) # a constant feature is included to handle intercept\n",
    "        num_features = X_ext.shape[1]\n",
    "        num_samples = X_ext.shape[0]\n",
    "        if self.zero_init:\n",
    "            self.weights_ = np.zeros(num_features) \n",
    "        else:\n",
    "            weight_threshold = 1.0 / (2 * num_features)\n",
    "            self.weights_ = self.random_state.uniform(low=-weight_threshold,\n",
    "                                                      high=weight_threshold, size=num_features) # random weight initialization\n",
    "        \n",
    "        self.all_losses = []\n",
    "        for i in range(self.max_iter):\n",
    "            y_pred = self.get_sigmoid(X_ext, self.weights_)\n",
    "            dz = y_pred - y\n",
    "            dz = dz.reshape((-1, 1))\n",
    "            \n",
    "            delta = (np.sum(np.multiply(X_ext, dz), axis = 0) / num_samples) + ((self.weights_ / self.C) / num_samples)\n",
    "            prev_weights = self.weights_.copy()\n",
    "            \n",
    "            self.weights_ -= self.eta * delta\n",
    "            l2_w = np.sqrt(np.sum((self.weights_ - prev_weights) ** 2))\n",
    "            \n",
    "            self.all_losses.append(self.get_loss(X_ext,  self.weights_, y))\n",
    "\n",
    "            if l2_w < self.tol:\n",
    "                break\n",
    "     \n",
    "    def predict_proba(self, X):\n",
    "        \"\"\"Predict positive class probabilities.\n",
    "        \n",
    "        Args:\n",
    "            X: numpy array of shape (n_samples, n_features)\n",
    "        Returns:\n",
    "            y: numpy array of shape (n_samples,)\n",
    "                Vector containing positive class probabilities.\n",
    "        \"\"\"\n",
    "        X_ext = np.hstack([np.ones((X.shape[0], 1)), X])\n",
    "        if hasattr(self, 'weights_'):\n",
    "            return self.get_sigmoid(X_ext, self.weights_)\n",
    "        else: \n",
    "            raise NotFittedError(\"CustomLogisticRegression instance is not fitted yet\")\n",
    "    \n",
    "    def predict(self, X):\n",
    "        \"\"\"Predict classes.\n",
    "        \n",
    "        Args:\n",
    "            X: numpy array of shape (n_samples, n_features)\n",
    "        Returns:\n",
    "            y: numpy array of shape (n_samples,)\n",
    "                Vector containing predicted class labels.\n",
    "        \"\"\"\n",
    "        X_ext = np.hstack([np.ones((X.shape[0], 1)), X]) # a constant feature is included to handle intercept\n",
    "        prediction = self.get_sigmoid(X_ext, self.weights_)\n",
    "        prediction = np.where(prediction > 0.5, 1, 0)\n",
    "        return prediction"
   ]
  },
  {
   "cell_type": "code",
   "execution_count": 5,
   "metadata": {},
   "outputs": [],
   "source": [
    "from sklearn import datasets\n",
    "from sklearn import metrics"
   ]
  },
  {
   "cell_type": "code",
   "execution_count": 6,
   "metadata": {},
   "outputs": [
    {
     "data": {
      "image/png": "[encoded data removed]",
      "text/plain": [
       "<Figure size 720x360 with 21 Axes>"
      ]
     },
     "metadata": {
      "needs_background": "light"
     },
     "output_type": "display_data"
    }
   ],
   "source": [
    "X, y = datasets.load_digits(n_class=10, return_X_y=True)\n",
    "\n",
    "_, axes = plt.subplots(nrows=3, ncols=7, figsize=(10, 5))\n",
    "for ax, image, label in zip(axes.flatten(), X, y):\n",
    "    ax.set_axis_off()\n",
    "    ax.imshow(image.reshape((8, 8)), cmap=plt.cm.gray_r if label % 2 else plt.cm.afmhot_r)\n",
    "    ax.set_title(label)\n",
    "\n",
    "X_train, X_test, y_train, y_test = train_test_split(X, y, test_size=0.2, shuffle=True, random_state=42)\n",
    "#y_train = \"<your code>\"\n",
    "#y_test = \"<your code>\"\n",
    "y_train = (y_train % 2) * 2 - 1\n",
    "y_test = (y_test % 2) * 2 - 1"
   ]
  },
  {
   "cell_type": "code",
   "execution_count": 7,
   "metadata": {},
   "outputs": [],
   "source": [
    "assert (np.unique(y_train) == [-1, 1]).all()\n",
    "assert (np.unique(y_test) == [-1, 1]).all()"
   ]
  },
  {
   "cell_type": "code",
   "execution_count": 8,
   "metadata": {},
   "outputs": [],
   "source": [
    "def fit_evaluate(clf, X_train, y_train, X_test, y_test):\n",
    "    clf.fit(X_train, y_train)\n",
    "    disp = metrics.plot_confusion_matrix(clf, X_test, y_test, normalize='true')\n",
    "    disp.figure_.suptitle(\"Confusion Matrix\")\n",
    "    plt.show()\n",
    "    \n",
    "    return metrics.accuracy_score(y_pred=clf.predict(X_train), y_true=y_train), \\\n",
    "           metrics.accuracy_score(y_pred=clf.predict(X_test), y_true=y_test)"
   ]
  },
  {
   "cell_type": "code",
   "execution_count": 9,
   "metadata": {},
   "outputs": [],
   "source": [
    "lr_clf = CustomLogisticRegression(max_iter=1, zero_init=True)"
   ]
  },
  {
   "cell_type": "code",
   "execution_count": 10,
   "metadata": {},
   "outputs": [],
   "source": [
    "assert np.allclose(lr_clf.get_sigmoid(np.array([[0.5, 0, 1.0], [0.3, 1.3, 1.0]]), np.array([0.5, -0.5, 0.1])),\n",
    "                   np.array([0.58662, 0.40131]))"
   ]
  },
  {
   "cell_type": "code",
   "execution_count": 11,
   "metadata": {},
   "outputs": [],
   "source": [
    "lr_clf.fit(X_train, y_train)"
   ]
  },
  {
   "cell_type": "code",
   "execution_count": 12,
   "metadata": {},
   "outputs": [
    {
     "data": {
      "text/plain": [
       "'assert np.allclose(lr_clf.weights_, np.array([ 3.1000e-06,  0.0000e+00,  4.1800e-05,  5.4770e-04,  2.2130e-04,\\n        4.8750e-04,  1.3577e-03,  5.9780e-04,  5.6400e-05, -7.0000e-07,\\n        1.6910e-04,  2.5190e-04, -4.3700e-04,  3.6190e-04,  1.0049e-03,\\n        4.2280e-04,  2.5700e-05,  3.0000e-07, -1.1500e-05, -7.2440e-04,\\n       -2.6200e-04,  8.7540e-04,  4.1540e-04, -8.4200e-05, -5.2000e-06,\\n        0.0000e+00, -2.2160e-04, -5.7130e-04,  9.8570e-04,  1.3507e-03,\\n        5.0210e-04, -1.7050e-04, -1.0000e-06,  0.0000e+00, -6.7810e-04,\\n       -1.0515e-03, -4.4500e-05,  3.7160e-04,  4.2100e-04, -8.1800e-05,\\n        0.0000e+00, -5.2000e-06, -5.3410e-04, -2.0393e-03, -8.4310e-04,\\n        1.0400e-04, -1.2390e-04, -1.7880e-04, -1.3200e-05, -4.5000e-06,\\n       -9.4300e-05, -1.1127e-03, -5.0900e-04, -2.1850e-04, -5.6050e-04,\\n       -3.9560e-04, -1.7700e-05, -3.0000e-07,  2.6800e-05,  6.3920e-04,\\n        1.8090e-04, -7.3660e-04, -5.3930e-04, -3.7060e-04, -2.8200e-05]), atol=1e-5)'"
      ]
     },
     "execution_count": 12,
     "metadata": {},
     "output_type": "execute_result"
    }
   ],
   "source": [
    "\"\"\"assert np.allclose(lr_clf.weights_, np.array([ 3.1000e-06,  0.0000e+00,  4.1800e-05,  5.4770e-04,  2.2130e-04,\n",
    "        4.8750e-04,  1.3577e-03,  5.9780e-04,  5.6400e-05, -7.0000e-07,\n",
    "        1.6910e-04,  2.5190e-04, -4.3700e-04,  3.6190e-04,  1.0049e-03,\n",
    "        4.2280e-04,  2.5700e-05,  3.0000e-07, -1.1500e-05, -7.2440e-04,\n",
    "       -2.6200e-04,  8.7540e-04,  4.1540e-04, -8.4200e-05, -5.2000e-06,\n",
    "        0.0000e+00, -2.2160e-04, -5.7130e-04,  9.8570e-04,  1.3507e-03,\n",
    "        5.0210e-04, -1.7050e-04, -1.0000e-06,  0.0000e+00, -6.7810e-04,\n",
    "       -1.0515e-03, -4.4500e-05,  3.7160e-04,  4.2100e-04, -8.1800e-05,\n",
    "        0.0000e+00, -5.2000e-06, -5.3410e-04, -2.0393e-03, -8.4310e-04,\n",
    "        1.0400e-04, -1.2390e-04, -1.7880e-04, -1.3200e-05, -4.5000e-06,\n",
    "       -9.4300e-05, -1.1127e-03, -5.0900e-04, -2.1850e-04, -5.6050e-04,\n",
    "       -3.9560e-04, -1.7700e-05, -3.0000e-07,  2.6800e-05,  6.3920e-04,\n",
    "        1.8090e-04, -7.3660e-04, -5.3930e-04, -3.7060e-04, -2.8200e-05]), atol=1e-5)\"\"\""
   ]
  },
  {
   "cell_type": "code",
   "execution_count": 13,
   "metadata": {},
   "outputs": [],
   "source": [
    "model = CustomLogisticRegression()"
   ]
  },
  {
   "cell_type": "code",
   "execution_count": 14,
   "metadata": {},
   "outputs": [],
   "source": [
    "y_train = np.where(y_train == -1, 0, 1)\n",
    "y_test = np.where(y_test == -1, 0, 1)"
   ]
  },
  {
   "cell_type": "code",
   "execution_count": 15,
   "metadata": {},
   "outputs": [
    {
     "data": {
      "image/png": "[encoded data removed]",
      "text/plain": [
       "<Figure size 432x288 with 2 Axes>"
      ]
     },
     "metadata": {
      "needs_background": "light"
     },
     "output_type": "display_data"
    }
   ],
   "source": [
    "train_acc, test_acc = fit_evaluate(model, X_train, y_train, X_test, y_test)"
   ]
  },
  {
   "cell_type": "code",
   "execution_count": 16,
   "metadata": {},
   "outputs": [
    {
     "data": {
      "text/plain": [
       "(0.9144050104384134, 0.9416666666666667)"
      ]
     },
     "execution_count": 16,
     "metadata": {},
     "output_type": "execute_result"
    }
   ],
   "source": [
    "train_acc, test_acc"
   ]
  },
  {
   "cell_type": "code",
   "execution_count": 17,
   "metadata": {},
   "outputs": [],
   "source": [
    "assert min(train_acc, test_acc) > 0.9"
   ]
  },
  {
   "cell_type": "markdown",
   "metadata": {},
   "source": [
    "**(0.5 points)** Visualize the loss history."
   ]
  },
  {
   "cell_type": "code",
   "execution_count": 18,
   "metadata": {},
   "outputs": [
    {
     "data": {
      "image/png": "[encoded data removed]",
      "text/plain": [
       "<Figure size 1008x288 with 1 Axes>"
      ]
     },
     "metadata": {
      "needs_background": "light"
     },
     "output_type": "display_data"
    }
   ],
   "source": [
    "plt.figure(figsize = (14, 4))\n",
    "plt.plot(np.arange(len(model.all_losses)), model.all_losses)\n",
    "plt.title('Loss change with number of iterations')\n",
    "plt.grid(True)\n",
    "plt.xticks(rotation = 90)\n",
    "plt.xlabel('Number of iteration')\n",
    "plt.ylabel('Loss')\n",
    "plt.show()"
   ]
  },
  {
   "cell_type": "markdown",
   "metadata": {},
   "source": [
    "As shown in the graph above, loss becomes lower with each iteration, in such way the model searches for the best weights."
   ]
  },
  {
   "cell_type": "markdown",
   "metadata": {},
   "source": [
    "**(0.5 points)** Try different learning rates and compare the results. How does the learning rate influence the convergence?"
   ]
  },
  {
   "cell_type": "code",
   "execution_count": 19,
   "metadata": {},
   "outputs": [],
   "source": [
    "etas = [0.00001, 0.00005, 0.0001, 0.0005, 0.001, 0.002]\n",
    "scores = []\n",
    "\n",
    "for eta in etas:\n",
    "    model_eta = CustomLogisticRegression(eta = eta)\n",
    "    model_eta.fit(X_train, y_train)\n",
    "    pred_eta = model_eta.predict(X_test)\n",
    "    scores.append(f1_score(pred_eta, y_test))"
   ]
  },
  {
   "cell_type": "code",
   "execution_count": 20,
   "metadata": {},
   "outputs": [
    {
     "data": {
      "image/png": "[encoded data removed]",
      "text/plain": [
       "<Figure size 1008x288 with 1 Axes>"
      ]
     },
     "metadata": {
      "needs_background": "light"
     },
     "output_type": "display_data"
    }
   ],
   "source": [
    "plt.figure(figsize = (14, 4))\n",
    "plt.plot(etas, scores)\n",
    "plt.title('Learning rate influence on model performance')\n",
    "plt.xticks(etas)\n",
    "plt.grid(True)\n",
    "plt.xticks(rotation = 90)\n",
    "plt.xlabel('Learning rates values')\n",
    "plt.ylabel('Model scores')\n",
    "plt.show()"
   ]
  },
  {
   "cell_type": "markdown",
   "metadata": {},
   "source": [
    "Learning rate should be chosen for each model individually. As a rule, optimum learning rate makes training faster and the model converges better. For the current model the best value of learning rate is 0.001."
   ]
  },
  {
   "cell_type": "markdown",
   "metadata": {},
   "source": [
    "**(0.5 points)** Try different regularization parameter values and compare the model quality."
   ]
  },
  {
   "cell_type": "code",
   "execution_count": 21,
   "metadata": {},
   "outputs": [],
   "source": [
    "Cs = [0.5, 1, 5, 10, 15, 20]\n",
    "scores = []\n",
    "\n",
    "for C in Cs:\n",
    "    model_c = CustomLogisticRegression(C = C)\n",
    "    model_c.fit(X_train, y_train)\n",
    "    pred_c = model_c.predict(X_test)\n",
    "    scores.append(f1_score(pred_c, y_test))"
   ]
  },
  {
   "cell_type": "code",
   "execution_count": 22,
   "metadata": {},
   "outputs": [
    {
     "data": {
      "image/png": "[encoded data removed]",
      "text/plain": [
       "<Figure size 1008x288 with 1 Axes>"
      ]
     },
     "metadata": {
      "needs_background": "light"
     },
     "output_type": "display_data"
    }
   ],
   "source": [
    "plt.figure(figsize = (14, 4))\n",
    "plt.plot(Cs, scores)\n",
    "plt.title('Regularization parameter C influence on model performance')\n",
    "plt.xticks(Cs)\n",
    "plt.grid(True)\n",
    "plt.xticks(rotation = 90)\n",
    "plt.xlabel('Regularization parameter C values')\n",
    "plt.ylabel('Model scores')\n",
    "plt.show()"
   ]
  },
  {
   "cell_type": "markdown",
   "metadata": {},
   "source": [
    "**(0.5 points)** Compare zero initialization and random initialization. "
   ]
  },
  {
   "cell_type": "code",
   "execution_count": 23,
   "metadata": {},
   "outputs": [
    {
     "name": "stdout",
     "output_type": "stream",
     "text": [
      "F1 score with random weights initialization:  0.9418\n",
      "F1 score with zero weights initialization:  0.9448\n"
     ]
    }
   ],
   "source": [
    "pred_rand_init = model.predict(X_test)\n",
    "score_rand_init = f1_score(pred_rand_init, y_test)\n",
    "print('F1 score with random weights initialization: ', round(score_rand_init, 4))\n",
    "\n",
    "model_zero_init = CustomLogisticRegression(zero_init = True)\n",
    "model_zero_init.fit(X_train, y_train)\n",
    "model_zero_init.fit(X_train, y_train)\n",
    "pred_zero_init = model_zero_init.predict(X_test)\n",
    "score_zero_init = f1_score(pred_zero_init, y_test)\n",
    "print('F1 score with zero weights initialization: ', round(score_zero_init, 4))"
   ]
  },
  {
   "cell_type": "markdown",
   "metadata": {},
   "source": [
    "The model shows slightly better F1 score with zero weight initialization."
   ]
  },
  {
   "cell_type": "markdown",
   "metadata": {},
   "source": [
    "## Part 2: Implementing KNN Classifier"
   ]
  },
  {
   "cell_type": "markdown",
   "metadata": {},
   "source": [
    "In this task you need to implement weighted K-Neighbors Classifier."
   ]
  },
  {
   "cell_type": "markdown",
   "metadata": {},
   "source": [
    "Recall that training a KNN classifier is simply memorizing a training sample. \n",
    "\n",
    "The process of applying a classifier for one object is to find the distances from it to all objects in the training data, then select the k nearest objects (neighbors) and return the most common class among these objects."
   ]
  },
  {
   "cell_type": "markdown",
   "metadata": {},
   "source": [
    "You can also give the nearest neighbors weights in accordance with the distance of the object to them. In the simplest case (as in your assignment), you can set the weights inversely proportional to that distance. \n",
    "\n",
    "$$w_{i} = \\frac{1}{d_{i} + eps},$$\n",
    "\n",
    "where $d_{i}$ is the distance between object and i-th nearest neighbor and $eps$ is the small value to prevent division by zero.\n",
    "\n",
    "In case of 'uniform' weights, all k nearest neighbors are equivalent (have equal weight, for example $w_{i} = 1, \\forall i \\in(1,k)$)."
   ]
  },
  {
   "cell_type": "markdown",
   "metadata": {},
   "source": [
    "To predict the probability of classes, it is necessary to normalize the weights of each class, dividing them by the sum:\n",
    "\n",
    "$$p_{i} = \\frac{w_{i}}{\\sum_{j=1}^{c}w_{j}},$$\n",
    "\n",
    "where $p_i$ is probability of i-th class and $c$ is the number of classes."
   ]
  },
  {
   "cell_type": "markdown",
   "metadata": {},
   "source": [
    "**(2 points)** Implement the algorithm and use it to classify the digits. By implementing this algorithm, you will be able to classify numbers not only into \"even\" or \"odd\", but into their real representation."
   ]
  },
  {
   "cell_type": "code",
   "execution_count": 24,
   "metadata": {},
   "outputs": [],
   "source": [
    "class CustomKNeighborsClassifier:\n",
    "    _estimator_type = \"classifier\"\n",
    "    \n",
    "    def __init__(self, n_neighbors=5, weights='uniform', eps=1e-9):\n",
    "        \"\"\"K-Nearest Neighbors classifier.\n",
    "        \n",
    "        Args:\n",
    "            n_neighbors: int, default=5\n",
    "                Number of neighbors to use by default for :meth:`kneighbors` queries.\n",
    "            weights : {'uniform', 'distance'} or callable, default='uniform'\n",
    "                Weight function used in prediction.  Possible values:\n",
    "                - 'uniform' : uniform weights.  All points in each neighborhood\n",
    "                  are weighted equally.\n",
    "                - 'distance' : weight points by the inverse of their distance.\n",
    "                  in this case, closer neighbors of a query point will have a\n",
    "                  greater influence than neighbors which are further away.\n",
    "            eps : float, default=1e-5\n",
    "                Epsilon to prevent division by 0 \n",
    "        \"\"\"\n",
    "        self.n_neighbors = n_neighbors\n",
    "        self.weights = weights\n",
    "        self.eps = eps\n",
    "        \n",
    "    \n",
    "    def get_pairwise_distances(self, X, Y):\n",
    "        \"\"\"\n",
    "        Returnes matrix of the pairwise distances between the rows from both X and Y.\n",
    "        Args:\n",
    "            X: numpy array of shape (n_samples, n_features)\n",
    "            Y: numpy array of shape (k_samples, n_features)\n",
    "        Returns:\n",
    "            P: numpy array of shape (n_samples, k_samples)\n",
    "                Matrix in which (i, j) value is the distance \n",
    "                between i'th row from the X and j'th row from the Y.\n",
    "        \"\"\"\n",
    "        \n",
    "        n_samples = X.shape[0]\n",
    "        n_features = X.shape[1]\n",
    "        k_samples = Y.shape[0]\n",
    "        distances = np.empty((n_samples, k_samples))\n",
    "        \n",
    "        ''' Implementation using two cycles:\n",
    "        for i in range(0, k_samples):\n",
    "            for j in range(0, n_samples):\n",
    "                distances[j, i] = np.sqrt(np.sum((X[j, :] - Y[i, :])**2))'''\n",
    "        \n",
    "        for i in range(0, k_samples):\n",
    "            distances[:, i] = np.sqrt(np.sum((X - Y[i, :])**2, axis = 1)) \n",
    "        return distances\n",
    "    \n",
    "    \n",
    "    def get_class_weights(self, y, weights):\n",
    "        \"\"\"\n",
    "        Returns a vector with sum of weights for each class \n",
    "        Args:\n",
    "            y: numpy array of shape (n_samles,)\n",
    "            weights: numpy array of shape (n_samples,)\n",
    "                The weights of the corresponding points of y.\n",
    "        Returns:\n",
    "            p: numpy array of shape (n_classes)\n",
    "                Array where the value at the i-th position \n",
    "                corresponds to the weight of the i-th class.\n",
    "        \"\"\"\n",
    "\n",
    "        class_weights = np.empty((len(self.classes_)), dtype = np.int32)\n",
    "        class_to_weight = dict(zip(y, weights))\n",
    "        \n",
    "        for i in range(len(self.classes_)): \n",
    "            class_weights[i] = np.sum(y == self.classes_[i]) * class_to_weight[self.classes_[i]]\n",
    "        return class_weights\n",
    "\n",
    "\n",
    "    def fit(self, X, y):\n",
    "        \"\"\"Fit the model.\n",
    "        \n",
    "        Args:\n",
    "            X: numpy array of shape (n_samples, n_features)\n",
    "            y: numpy array of shape (n_samples,)\n",
    "                Target vector.        \n",
    "        \"\"\"\n",
    "        self.points = X\n",
    "        self.y = y\n",
    "        self.classes_ = np.unique(y)\n",
    "        \n",
    "        \n",
    "    def predict_proba(self, X):\n",
    "        \"\"\"Predict positive class probabilities.\n",
    "        \n",
    "        Args:\n",
    "            X: numpy array of shape (n_samples, n_features)\n",
    "        Returns:\n",
    "            y: numpy array of shape (n_samples, n_classes)\n",
    "                Vector containing positive class probabilities.\n",
    "        \"\"\"\n",
    "        if hasattr(self, 'points'):\n",
    "            print('X', X.shape)\n",
    "            P = self.get_pairwise_distances(X, self.points)\n",
    "            print('P', P.shape)\n",
    "            \n",
    "            weights_of_points = np.ones(P.shape)\n",
    "            print('Shape', weights_of_points.shape)\n",
    "            if self.weights == 'distance':\n",
    "                weights_of_points = 1 / (P + self.eps)\n",
    "                \n",
    "            # <your code>\n",
    "            pass\n",
    "        else: \n",
    "            raise NotFittedError(\"CustomKNeighborsClassifier instance is not fitted yet\")\n",
    "            \n",
    "        \n",
    "    def predict(self, X):\n",
    "        \"\"\"Predict classes.\n",
    "        \n",
    "        Args:\n",
    "            X: numpy array of shape (n_samples, n_features)\n",
    "        Returns:\n",
    "            y: numpy array of shape (n_samples,)\n",
    "                Vector containing predicted class labels.\n",
    "        \"\"\"\n",
    "\n",
    "        prediction = np.empty((X.shape[0]), dtype = '<U1')\n",
    "        distances = self.get_pairwise_distances(self.points, X)\n",
    "        indices = np.argsort(distances, axis = 0)[: self.n_neighbors, :]\n",
    "\n",
    "        for i in range(X.shape[0]):\n",
    "            k_neighbors = [self.y[j] for j in indices[:, i]]\n",
    "            prediction[i] = Counter(k_neighbors).most_common(1)[0][0]\n",
    "\n",
    "        return prediction"
   ]
  },
  {
   "cell_type": "code",
   "execution_count": 25,
   "metadata": {},
   "outputs": [],
   "source": [
    "model = CustomKNeighborsClassifier(n_neighbors=5, weights='distance')\n",
    "knn = KNeighborsClassifier(n_neighbors=5, weights='distance')"
   ]
  },
  {
   "cell_type": "code",
   "execution_count": 26,
   "metadata": {},
   "outputs": [],
   "source": [
    "assert np.allclose(model.get_pairwise_distances(np.array([[0  , 1]  , [1, 1]]), \n",
    "                                                np.array([[0.5, 0.5], [1, 0]])),\n",
    "                   np.array([[0.70710678, 1.41421356],\n",
    "                             [0.70710678, 1.        ]]))"
   ]
  },
  {
   "cell_type": "code",
   "execution_count": 27,
   "metadata": {
    "scrolled": true
   },
   "outputs": [],
   "source": [
    "model.classes_ = ['one', 'two', 'three']\n",
    "assert np.allclose(model.get_class_weights(np.array(['one', 'one', 'three', 'two']), np.array([1, 1, 0, 4])), \n",
    "                   np.array([2,4,0]))"
   ]
  },
  {
   "cell_type": "code",
   "execution_count": 28,
   "metadata": {},
   "outputs": [
    {
     "data": {
      "image/png": "[encoded data removed]",
      "text/plain": [
       "<Figure size 720x360 with 21 Axes>"
      ]
     },
     "metadata": {
      "needs_background": "light"
     },
     "output_type": "display_data"
    }
   ],
   "source": [
    "X, y = datasets.load_digits(n_class=10, return_X_y=True)\n",
    "\n",
    "_, axes = plt.subplots(nrows=3, ncols=7, figsize=(10, 5))\n",
    "for ax, image, label in zip(axes.flatten(), X, y):\n",
    "    ax.set_axis_off()\n",
    "    ax.imshow(image.reshape((8, 8)), cmap=plt.cm.gray_r if label % 2 else plt.cm.afmhot_r)\n",
    "    ax.set_title(label)\n",
    "\n",
    "X_train, X_test, y_train, y_test = train_test_split(X, y, test_size=0.2, shuffle=True, random_state=42)"
   ]
  },
  {
   "cell_type": "code",
   "execution_count": 29,
   "metadata": {},
   "outputs": [],
   "source": [
    "model.fit(X_train, y_train)\n",
    "knn.fit(X_train, list(map(str, y_train)));"
   ]
  },
  {
   "cell_type": "code",
   "execution_count": 30,
   "metadata": {},
   "outputs": [],
   "source": [
    "#assert np.allclose(model.predict_proba(X_test), knn.predict_proba(X_test))"
   ]
  },
  {
   "cell_type": "code",
   "execution_count": 31,
   "metadata": {},
   "outputs": [],
   "source": [
    "#train_acc, test_acc = fit_evaluate(model, X_train, y_train, X_test, y_test)"
   ]
  },
  {
   "cell_type": "code",
   "execution_count": 32,
   "metadata": {},
   "outputs": [
    {
     "data": {
      "image/png": "[encoded data removed]",
      "text/plain": [
       "<Figure size 432x288 with 2 Axes>"
      ]
     },
     "metadata": {
      "needs_background": "light"
     },
     "output_type": "display_data"
    }
   ],
   "source": [
    "train_acc, test_acc = fit_evaluate(knn, X_train, y_train, X_test, y_test)"
   ]
  },
  {
   "cell_type": "code",
   "execution_count": 33,
   "metadata": {},
   "outputs": [],
   "source": [
    "assert train_acc == 1\n",
    "assert test_acc > 0.98"
   ]
  },
  {
   "cell_type": "markdown",
   "metadata": {},
   "source": [
    "**(0.5 points)** Take a look at the confusion matrix and tell what numbers the model confuses and why this happens."
   ]
  },
  {
   "cell_type": "markdown",
   "metadata": {},
   "source": [
    "The model confuses the following pairs: (9, 4), (9, 5), (5, 6), (7, 9). The confusion is caused similiraty in writing of the mentioned pairs."
   ]
  },
  {
   "cell_type": "markdown",
   "metadata": {},
   "source": [
    "**(0.5 points)** Try different n_neighbors parameters and compare the output probabilities of the model."
   ]
  },
  {
   "cell_type": "code",
   "execution_count": 34,
   "metadata": {},
   "outputs": [
    {
     "name": "stdout",
     "output_type": "stream",
     "text": [
      "Number of nearest neighbors is  1\n"
     ]
    },
    {
     "data": {
      "image/png": "[encoded data removed]",
      "text/plain": [
       "<Figure size 720x216 with 32 Axes>"
      ]
     },
     "metadata": {
      "needs_background": "light"
     },
     "output_type": "display_data"
    },
    {
     "name": "stdout",
     "output_type": "stream",
     "text": [
      "Number of nearest neighbors is  10\n"
     ]
    },
    {
     "data": {
      "image/png": "[encoded data removed]",
      "text/plain": [
       "<Figure size 720x216 with 32 Axes>"
      ]
     },
     "metadata": {
      "needs_background": "light"
     },
     "output_type": "display_data"
    },
    {
     "name": "stdout",
     "output_type": "stream",
     "text": [
      "Number of nearest neighbors is  20\n"
     ]
    },
    {
     "data": {
      "image/png": "[encoded data removed]",
      "text/plain": [
       "<Figure size 720x216 with 32 Axes>"
      ]
     },
     "metadata": {
      "needs_background": "light"
     },
     "output_type": "display_data"
    },
    {
     "name": "stdout",
     "output_type": "stream",
     "text": [
      "Number of nearest neighbors is  100\n"
     ]
    },
    {
     "data": {
      "image/png": "[encoded data removed]",
      "text/plain": [
       "<Figure size 720x216 with 32 Axes>"
      ]
     },
     "metadata": {
      "needs_background": "light"
     },
     "output_type": "display_data"
    }
   ],
   "source": [
    "k_neighbors = [1, 10, 20, 100]\n",
    "prediction = []\n",
    "\n",
    "for k in k_neighbors:\n",
    "    print('Number of nearest neighbors is ', k)\n",
    "    knn_model = KNeighborsClassifier(n_neighbors = k, weights='distance')\n",
    "    knn_model.fit(X_train, y_train)\n",
    "    prediction.append(knn_model.predict(X_test))\n",
    "    figure, axes = plt.subplots(nrows=2, ncols=16, figsize=(10, 3))\n",
    "    for ax, image, label in zip(axes.flatten(), X_test, prediction[-1]):\n",
    "        ax.set_axis_off()\n",
    "        ax.imshow(image.reshape((8, 8)), cmap=plt.cm.gray_r if label % 2 else plt.cm.afmhot_r)\n",
    "        ax.set_title(label)\n",
    "    plt.show()"
   ]
  },
  {
   "cell_type": "code",
   "execution_count": 35,
   "metadata": {},
   "outputs": [
    {
     "name": "stdout",
     "output_type": "stream",
     "text": [
      "Using 1 nearest neighbors number of incorrect predictions is 8. \n",
      "Using 10 nearest neighbors number of incorrect predictions is 7. \n",
      "Using 20 nearest neighbors number of incorrect predictions is 8. \n",
      "Using 100 nearest neighbors number of incorrect predictions is 21. \n"
     ]
    }
   ],
   "source": [
    "for i in range(len(k_neighbors)):\n",
    "    wrong = np.sum(y_test != prediction[i])\n",
    "    print('Using {} nearest neighbors number of incorrect predictions is {}. '.format(k_neighbors[i], wrong))"
   ]
  },
  {
   "cell_type": "code",
   "execution_count": 36,
   "metadata": {},
   "outputs": [],
   "source": [
    "k_neighbors = np.arange(1, 50, 1)\n",
    "prediction = []\n",
    "n_incorrect = []\n",
    "\n",
    "for k in k_neighbors:\n",
    "    knn_model = KNeighborsClassifier(n_neighbors = k, weights='distance')\n",
    "    knn_model.fit(X_train, y_train)\n",
    "    prediction.append(knn_model.predict(X_test))\n",
    "    n_incorrect.append(np.sum(y_test != prediction[-1]))"
   ]
  },
  {
   "cell_type": "code",
   "execution_count": 37,
   "metadata": {},
   "outputs": [
    {
     "data": {
      "image/png": "[encoded data removed]",
      "text/plain": [
       "<Figure size 1008x288 with 1 Axes>"
      ]
     },
     "metadata": {
      "needs_background": "light"
     },
     "output_type": "display_data"
    }
   ],
   "source": [
    "plt.figure(figsize = (14, 4))\n",
    "plt.plot(k_neighbors, n_incorrect)\n",
    "plt.title('Number of incorrect predictions vs number of nearest neighbors in KNN')\n",
    "plt.xticks(k_neighbors)\n",
    "plt.grid(True)\n",
    "plt.xlabel('Number of nearest neighbors')\n",
    "plt.ylabel('Number of incorrect predictions')\n",
    "plt.show()"
   ]
  },
  {
   "cell_type": "markdown",
   "metadata": {},
   "source": [
    "If number of nearest values is too small or too large the performance of the model is bad. There should be the golden mean, which provides the best performance. In current model, according to the above graph, the numbers of nearest neighbors for best model performance are 6 and 7."
   ]
  },
  {
   "cell_type": "markdown",
   "metadata": {},
   "source": [
    "**(0.5 points)** Compare both 'uniform' and 'distance' weights and share your thoughts in what situations which parameter can be better."
   ]
  },
  {
   "cell_type": "code",
   "execution_count": 38,
   "metadata": {},
   "outputs": [
    {
     "name": "stdout",
     "output_type": "stream",
     "text": [
      "Number of incorrect predictions in model with uniform weights:  4\n",
      "Number of incorrect predictions in model with distance weights:  4\n"
     ]
    }
   ],
   "source": [
    "knn_distance = KNeighborsClassifier(n_neighbors=6, weights='distance')\n",
    "knn_uniform = KNeighborsClassifier(n_neighbors=6, weights='uniform')\n",
    "knn_distance.fit(X_train, y_train)\n",
    "predict_distance = knn_distance.predict(X_test)\n",
    "knn_uniform.fit(X_train, y_train)\n",
    "predict_uniform = knn_uniform.predict(X_test)\n",
    "\n",
    "print('Number of incorrect predictions in model with uniform weights: ', np.sum(predict_uniform != y_test))\n",
    "print('Number of incorrect predictions in model with distance weights: ', np.sum(predict_distance != y_test))"
   ]
  },
  {
   "cell_type": "markdown",
   "metadata": {},
   "source": [
    "If the nearest neighbors vary widely in their distance, it is better to use distance weights, because the closest neighbors more reliably indicate the class of the object. For current dataset both models with uniform and distance weights show the same accuracy."
   ]
  },
  {
   "cell_type": "markdown",
   "metadata": {},
   "source": [
    "**(0.5 points)** Suggest another distance measurement function that could improve the quality of the classification for this task. "
   ]
  },
  {
   "cell_type": "markdown",
   "metadata": {},
   "source": [
    "The most common distance metrics for KNN model are 'euclidean', 'manhatten', 'chebyshev'. Lets compare models with these three metrics."
   ]
  },
  {
   "cell_type": "code",
   "execution_count": 39,
   "metadata": {},
   "outputs": [
    {
     "data": {
      "text/html": [
       "<div>\n",
       "<style scoped>\n",
       "    .dataframe tbody tr th:only-of-type {\n",
       "        vertical-align: middle;\n",
       "    }\n",
       "\n",
       "    .dataframe tbody tr th {\n",
       "        vertical-align: top;\n",
       "    }\n",
       "\n",
       "    .dataframe thead th {\n",
       "        text-align: right;\n",
       "    }\n",
       "</style>\n",
       "<table border=\"1\" class=\"dataframe\">\n",
       "  <thead>\n",
       "    <tr style=\"text-align: right;\">\n",
       "      <th></th>\n",
       "      <th>euclidean</th>\n",
       "      <th>manhattan</th>\n",
       "      <th>chebyshev</th>\n",
       "      <th>minkowski</th>\n",
       "    </tr>\n",
       "  </thead>\n",
       "  <tbody>\n",
       "    <tr>\n",
       "      <th>Model score</th>\n",
       "      <td>0.99</td>\n",
       "      <td>0.98</td>\n",
       "      <td>0.98</td>\n",
       "      <td>0.99</td>\n",
       "    </tr>\n",
       "    <tr>\n",
       "      <th>Number of incorrect predictions</th>\n",
       "      <td>4.00</td>\n",
       "      <td>9.00</td>\n",
       "      <td>8.00</td>\n",
       "      <td>4.00</td>\n",
       "    </tr>\n",
       "  </tbody>\n",
       "</table>\n",
       "</div>"
      ],
      "text/plain": [
       "                                 euclidean  manhattan  chebyshev  minkowski\n",
       "Model score                           0.99       0.98       0.98       0.99\n",
       "Number of incorrect predictions       4.00       9.00       8.00       4.00"
      ]
     },
     "execution_count": 39,
     "metadata": {},
     "output_type": "execute_result"
    }
   ],
   "source": [
    "metrics = ['euclidean', 'manhattan', 'chebyshev', 'minkowski']\n",
    "metric_comparison = pd.DataFrame(columns = metrics, index = ['Model score', 'Number of incorrect predictions'])\n",
    "\n",
    "for metric in metrics:\n",
    "    knn_model = KNeighborsClassifier(n_neighbors=6, metric=metric)\n",
    "    knn_model.fit(X_train, y_train)\n",
    "    score_model = knn_model.score(X_test, y_test)\n",
    "    n_incorrect = np.sum(knn_model.predict(X_test) != y_test)\n",
    "    series = pd.Series([round(score_model, 2), int(n_incorrect)], index = ['Model score', 'Number of incorrect predictions'])\n",
    "    metric_comparison.loc[:, metric] = series\n",
    "metric_comparison"
   ]
  },
  {
   "cell_type": "markdown",
   "metadata": {},
   "source": [
    "As shown in the table above the best performance is shown by models with 'euclidean' and 'minkowski' metrics, whereas, the worst performance is shown by model with 'manhatten' metric."
   ]
  },
  {
   "cell_type": "markdown",
   "metadata": {},
   "source": [
    "**(0.5 points)** Suggest different task and distance function that you think would be suitable for it."
   ]
  },
  {
   "cell_type": "markdown",
   "metadata": {},
   "source": [
    "< your thoughts >"
   ]
  },
  {
   "cell_type": "markdown",
   "metadata": {},
   "source": [
    "## Part 3: Synthetic Titanic Survival Prediction"
   ]
  },
  {
   "cell_type": "markdown",
   "metadata": {},
   "source": [
    "### Dataset\n",
    "\n",
    "Read the description here: https://www.kaggle.com/c/tabular-playground-series-apr-2021/data. Download the dataset and place it in the *data/titanic/* folder in your working directory.\n",
    "You will use train.csv for model training and validation. The test set is used for model testing: once the model is trained, you can predict whether a passenger survived or not for each passenger in the test set, and submit the predictions: https://www.kaggle.com/c/tabular-playground-series-apr-2021/overview/evaluation.  \n"
   ]
  },
  {
   "cell_type": "code",
   "execution_count": 40,
   "metadata": {},
   "outputs": [],
   "source": [
    "PATH = \"./data/\""
   ]
  },
  {
   "cell_type": "code",
   "execution_count": 41,
   "metadata": {},
   "outputs": [],
   "source": [
    "data = pd.read_csv('train.csv').set_index('PassengerId')"
   ]
  },
  {
   "cell_type": "code",
   "execution_count": 42,
   "metadata": {
    "scrolled": true
   },
   "outputs": [
    {
     "data": {
      "text/html": [
       "<div>\n",
       "<style scoped>\n",
       "    .dataframe tbody tr th:only-of-type {\n",
       "        vertical-align: middle;\n",
       "    }\n",
       "\n",
       "    .dataframe tbody tr th {\n",
       "        vertical-align: top;\n",
       "    }\n",
       "\n",
       "    .dataframe thead th {\n",
       "        text-align: right;\n",
       "    }\n",
       "</style>\n",
       "<table border=\"1\" class=\"dataframe\">\n",
       "  <thead>\n",
       "    <tr style=\"text-align: right;\">\n",
       "      <th></th>\n",
       "      <th>Survived</th>\n",
       "      <th>Pclass</th>\n",
       "      <th>Name</th>\n",
       "      <th>Sex</th>\n",
       "      <th>Age</th>\n",
       "      <th>SibSp</th>\n",
       "      <th>Parch</th>\n",
       "      <th>Ticket</th>\n",
       "      <th>Fare</th>\n",
       "      <th>Cabin</th>\n",
       "      <th>Embarked</th>\n",
       "    </tr>\n",
       "    <tr>\n",
       "      <th>PassengerId</th>\n",
       "      <th></th>\n",
       "      <th></th>\n",
       "      <th></th>\n",
       "      <th></th>\n",
       "      <th></th>\n",
       "      <th></th>\n",
       "      <th></th>\n",
       "      <th></th>\n",
       "      <th></th>\n",
       "      <th></th>\n",
       "      <th></th>\n",
       "    </tr>\n",
       "  </thead>\n",
       "  <tbody>\n",
       "    <tr>\n",
       "      <th>0</th>\n",
       "      <td>1</td>\n",
       "      <td>1</td>\n",
       "      <td>Oconnor, Frankie</td>\n",
       "      <td>male</td>\n",
       "      <td>NaN</td>\n",
       "      <td>2</td>\n",
       "      <td>0</td>\n",
       "      <td>209245</td>\n",
       "      <td>27.14</td>\n",
       "      <td>C12239</td>\n",
       "      <td>S</td>\n",
       "    </tr>\n",
       "    <tr>\n",
       "      <th>1</th>\n",
       "      <td>0</td>\n",
       "      <td>3</td>\n",
       "      <td>Bryan, Drew</td>\n",
       "      <td>male</td>\n",
       "      <td>NaN</td>\n",
       "      <td>0</td>\n",
       "      <td>0</td>\n",
       "      <td>27323</td>\n",
       "      <td>13.35</td>\n",
       "      <td>NaN</td>\n",
       "      <td>S</td>\n",
       "    </tr>\n",
       "    <tr>\n",
       "      <th>2</th>\n",
       "      <td>0</td>\n",
       "      <td>3</td>\n",
       "      <td>Owens, Kenneth</td>\n",
       "      <td>male</td>\n",
       "      <td>0.33</td>\n",
       "      <td>1</td>\n",
       "      <td>2</td>\n",
       "      <td>CA 457703</td>\n",
       "      <td>71.29</td>\n",
       "      <td>NaN</td>\n",
       "      <td>S</td>\n",
       "    </tr>\n",
       "    <tr>\n",
       "      <th>3</th>\n",
       "      <td>0</td>\n",
       "      <td>3</td>\n",
       "      <td>Kramer, James</td>\n",
       "      <td>male</td>\n",
       "      <td>19.00</td>\n",
       "      <td>0</td>\n",
       "      <td>0</td>\n",
       "      <td>A. 10866</td>\n",
       "      <td>13.04</td>\n",
       "      <td>NaN</td>\n",
       "      <td>S</td>\n",
       "    </tr>\n",
       "    <tr>\n",
       "      <th>4</th>\n",
       "      <td>1</td>\n",
       "      <td>3</td>\n",
       "      <td>Bond, Michael</td>\n",
       "      <td>male</td>\n",
       "      <td>25.00</td>\n",
       "      <td>0</td>\n",
       "      <td>0</td>\n",
       "      <td>427635</td>\n",
       "      <td>7.76</td>\n",
       "      <td>NaN</td>\n",
       "      <td>S</td>\n",
       "    </tr>\n",
       "  </tbody>\n",
       "</table>\n",
       "</div>"
      ],
      "text/plain": [
       "             Survived  Pclass              Name   Sex    Age  SibSp  Parch  \\\n",
       "PassengerId                                                                  \n",
       "0                   1       1  Oconnor, Frankie  male    NaN      2      0   \n",
       "1                   0       3       Bryan, Drew  male    NaN      0      0   \n",
       "2                   0       3    Owens, Kenneth  male   0.33      1      2   \n",
       "3                   0       3     Kramer, James  male  19.00      0      0   \n",
       "4                   1       3     Bond, Michael  male  25.00      0      0   \n",
       "\n",
       "                Ticket   Fare   Cabin Embarked  \n",
       "PassengerId                                     \n",
       "0               209245  27.14  C12239        S  \n",
       "1                27323  13.35     NaN        S  \n",
       "2            CA 457703  71.29     NaN        S  \n",
       "3             A. 10866  13.04     NaN        S  \n",
       "4               427635   7.76     NaN        S  "
      ]
     },
     "execution_count": 42,
     "metadata": {},
     "output_type": "execute_result"
    }
   ],
   "source": [
    "data.head()"
   ]
  },
  {
   "cell_type": "code",
   "execution_count": 43,
   "metadata": {},
   "outputs": [],
   "source": [
    "# Number of samples in the dataset\n",
    "\n",
    "m = data.shape[0]"
   ]
  },
  {
   "cell_type": "markdown",
   "metadata": {},
   "source": [
    "### EDA"
   ]
  },
  {
   "cell_type": "markdown",
   "metadata": {},
   "source": [
    "**(0.5 points)** How many females and males are there in the dataset? What about the survived passengers? Is there any relationship between the gender and the survival?"
   ]
  },
  {
   "cell_type": "code",
   "execution_count": 44,
   "metadata": {},
   "outputs": [
    {
     "data": {
      "text/html": [
       "<div>\n",
       "<style scoped>\n",
       "    .dataframe tbody tr th:only-of-type {\n",
       "        vertical-align: middle;\n",
       "    }\n",
       "\n",
       "    .dataframe tbody tr th {\n",
       "        vertical-align: top;\n",
       "    }\n",
       "\n",
       "    .dataframe thead th {\n",
       "        text-align: right;\n",
       "    }\n",
       "</style>\n",
       "<table border=\"1\" class=\"dataframe\">\n",
       "  <thead>\n",
       "    <tr style=\"text-align: right;\">\n",
       "      <th></th>\n",
       "      <th>Counts</th>\n",
       "      <th>Percentages</th>\n",
       "    </tr>\n",
       "  </thead>\n",
       "  <tbody>\n",
       "    <tr>\n",
       "      <th>male</th>\n",
       "      <td>56114</td>\n",
       "      <td>56.114</td>\n",
       "    </tr>\n",
       "    <tr>\n",
       "      <th>female</th>\n",
       "      <td>43886</td>\n",
       "      <td>43.886</td>\n",
       "    </tr>\n",
       "  </tbody>\n",
       "</table>\n",
       "</div>"
      ],
      "text/plain": [
       "        Counts  Percentages\n",
       "male     56114       56.114\n",
       "female   43886       43.886"
      ]
     },
     "execution_count": 44,
     "metadata": {},
     "output_type": "execute_result"
    }
   ],
   "source": [
    "counts = data.Sex.value_counts()\n",
    "percentages = pd.Series(data = [100 * counts[0] / m, 100 * counts.iloc[1] / m], index = counts.index)\n",
    "sex = pd.concat((counts, percentages), axis = 1).rename(columns={'Sex': 'Counts', 0: 'Percentages'})\n",
    "sex"
   ]
  },
  {
   "cell_type": "code",
   "execution_count": 45,
   "metadata": {},
   "outputs": [
    {
     "data": {
      "text/html": [
       "<div>\n",
       "<style scoped>\n",
       "    .dataframe tbody tr th:only-of-type {\n",
       "        vertical-align: middle;\n",
       "    }\n",
       "\n",
       "    .dataframe tbody tr th {\n",
       "        vertical-align: top;\n",
       "    }\n",
       "\n",
       "    .dataframe thead th {\n",
       "        text-align: right;\n",
       "    }\n",
       "</style>\n",
       "<table border=\"1\" class=\"dataframe\">\n",
       "  <thead>\n",
       "    <tr style=\"text-align: right;\">\n",
       "      <th></th>\n",
       "      <th>Counts</th>\n",
       "      <th>Percentages</th>\n",
       "    </tr>\n",
       "  </thead>\n",
       "  <tbody>\n",
       "    <tr>\n",
       "      <th>0</th>\n",
       "      <td>57226</td>\n",
       "      <td>57.226</td>\n",
       "    </tr>\n",
       "    <tr>\n",
       "      <th>1</th>\n",
       "      <td>42774</td>\n",
       "      <td>42.774</td>\n",
       "    </tr>\n",
       "  </tbody>\n",
       "</table>\n",
       "</div>"
      ],
      "text/plain": [
       "   Counts  Percentages\n",
       "0   57226       57.226\n",
       "1   42774       42.774"
      ]
     },
     "execution_count": 45,
     "metadata": {},
     "output_type": "execute_result"
    }
   ],
   "source": [
    "counts = data.Survived.value_counts()\n",
    "percentages = pd.Series(data = [100 * counts[0] / m, 100* counts.iloc[1] / m], index = counts.index)\n",
    "survived = pd.concat((counts, percentages), axis = 1).rename(columns={'Survived': 'Counts', 0: 'Percentages'})\n",
    "survived"
   ]
  },
  {
   "cell_type": "code",
   "execution_count": 46,
   "metadata": {},
   "outputs": [
    {
     "data": {
      "image/png": "[encoded data removed]",
      "text/plain": [
       "<Figure size 432x576 with 1 Axes>"
      ]
     },
     "metadata": {
      "needs_background": "light"
     },
     "output_type": "display_data"
    }
   ],
   "source": [
    "plt.figure(figsize = (6, 8))\n",
    "r1 = data['Sex'].value_counts().values\n",
    "r2 = data[data['Survived'] == 1]['Sex'].value_counts().values\n",
    "x = np.arange(len(data['Sex'].unique()))\n",
    "width = 0.1\n",
    "rect1 = plt.bar(x - width / 2, r1, label = \"Total number\", color = \"#b59d9b\", edgecolor = \"#3d0909\", linewidth = 0.5)\n",
    "rect2 = plt.bar(x - width / 2, r2, label = \"Number of survived\", color = \"#f1f1f1\", edgecolor = \"#3d0909\", linewidth = 0.5)\n",
    "plt.title(\"Number of passengers survived depending on sex\")\n",
    "plt.legend()\n",
    "plt.xticks([0, 1])\n",
    "for rect1, rect2 in zip(rect1, rect2):\n",
    "    height1 = rect1.get_height()\n",
    "    height2 = rect2.get_height()\n",
    "    plt.annotate(\"{}\".format(height1), xy = (rect1.get_x() + rect1.get_width() / 2, height1), \n",
    "                    xytext = (0, 3), textcoords = \"offset points\", ha = \"center\", va = \"bottom\") \n",
    "    plt.annotate(\"{} ({}%)\".format(height2, int(round(height2*100/height1, 0))), xy = (rect2.get_x() + \n",
    "                    rect2.get_width() / 2, height2), xytext = (0, 3), textcoords = \"offset points\", \n",
    "                    ha = \"center\", va = \"bottom\", color = \"#ffffff\")\n",
    "plt.show()"
   ]
  },
  {
   "cell_type": "markdown",
   "metadata": {},
   "source": [
    "0 - corresponds to males, 1 - corresponds to females <br>\n",
    "There were more male than female onboard. Men had more chance to survive on Titanic."
   ]
  },
  {
   "cell_type": "markdown",
   "metadata": {},
   "source": [
    "**(0.5 points)** Plot age distribution of the passengers. What is the average and the median age of survived and deceased passengers? Do age distributions differ for survived and deceased passengers? Why?"
   ]
  },
  {
   "cell_type": "code",
   "execution_count": 47,
   "metadata": {},
   "outputs": [
    {
     "data": {
      "image/png": "[encoded data removed]",
      "text/plain": [
       "<Figure size 1152x864 with 3 Axes>"
      ]
     },
     "metadata": {
      "needs_background": "light"
     },
     "output_type": "display_data"
    }
   ],
   "source": [
    "figure, (ax1, ax2, ax3) = plt.subplots(3, 1, figsize = (16, 12))\n",
    "figure.subplots_adjust(hspace = 0.3)  \n",
    "\n",
    "ax1.set_title('People age distribution')\n",
    "ax1.grid(linewidth = 0.1, color = \"#000000\")\n",
    "sns.kdeplot(data = data['Age'], color = '#3d0909', shade=True, ax = ax1)\n",
    "ax1.axvline(x = np.mean(data['Age']), color = '#3d0909', ymax = 0.75, linewidth = 0.4)\n",
    "ax1.text(np.mean(data['Age'] - 0.5), 0.019, 'mean', rotation=90)\n",
    "ax1.axvline(x = np.median(data['Age'].dropna()), color = '#3d0909', ymax = 0.75, linewidth = 0.4)\n",
    "ax1.text(np.median(data['Age'].dropna()), 0.019, 'median', rotation=90)\n",
    "ax1.set_xlabel('Age')\n",
    "ax1.set_ylabel('Number of people')\n",
    "\n",
    "ax2.set_title('Survived people age distribution')\n",
    "ax2.grid(linewidth = 0.1, color = \"#000000\")\n",
    "sns.kdeplot(data = data[data['Survived'] == 1]['Age'], color = '#3d0909', shade=True, ax = ax2)\n",
    "ax2.axvline(x = np.mean(data[data['Survived'] == 1]['Age']), color = '#3d0909', ymax = 0.75, linewidth = 0.4)\n",
    "ax2.text(np.mean(data[data['Survived'] == 1]['Age'] - 1), 0.0175, 'mean', rotation=90)\n",
    "ax2.axvline(x = np.mean(data[data['Survived'] == 1]['Age'].dropna()), color = '#3d0909', ymax = 0.75, linewidth = 0.4)\n",
    "ax2.text(np.mean(data[data['Survived'] == 1]['Age'].dropna()), 0.0175, 'median', rotation=90)\n",
    "ax2.set_xlabel('Age')\n",
    "ax2.set_ylabel('Number of people')\n",
    "\n",
    "ax3.set_title('Deceased people age distribution')\n",
    "ax3.grid(linewidth = 0.1, color = \"#000000\")\n",
    "sns.kdeplot(data = data[data['Survived'] == 0]['Age'], color = '#3d0909', shade=True, ax = ax3)\n",
    "ax3.axvline(x = np.mean(data[data['Survived'] == 0]['Age']), color = '#3d0909', ymax = 0.75, linewidth = 0.4)\n",
    "ax3.text(np.mean(data[data['Survived'] == 0]['Age']), 0.022, 'mean', rotation=90)\n",
    "ax3.axvline(x = np.median(data[data['Survived'] == 0]['Age'].dropna()), color = '#3d0909', ymax = 0.75, linewidth = 0.4)\n",
    "ax3.text(np.median(data[data['Survived'] == 0]['Age'].dropna() - 0.5), 0.022, 'median', rotation=90)\n",
    "ax3.set_xlabel('Age')\n",
    "ax3.set_ylabel('Number of people')\n",
    "plt.show()"
   ]
  },
  {
   "cell_type": "markdown",
   "metadata": {},
   "source": [
    "The diagrams above show that avarage age of survived people is higher than of people who deceased. Many elderly people (age 45 - 65) were evacuated from Titanic, whereas, many young people (age 20 - 30) died. That could be explained by priority evacuation for elderly, or by the fact that older people had more money and as a result higher ticket class."
   ]
  },
  {
   "cell_type": "markdown",
   "metadata": {},
   "source": [
    "**(1 point)** Explore \"passenger class\" and \"embarked\" features. What class was \"the safest\"? Is there any relationship between the embarkation port and the survival? Provide the corresponding visualizations."
   ]
  },
  {
   "cell_type": "code",
   "execution_count": 48,
   "metadata": {},
   "outputs": [
    {
     "data": {
      "image/png": "[encoded data removed]",
      "text/plain": [
       "<Figure size 1008x576 with 2 Axes>"
      ]
     },
     "metadata": {
      "needs_background": "light"
     },
     "output_type": "display_data"
    }
   ],
   "source": [
    "figure, (ax1, ax2) = plt.subplots(1, 2, figsize = (14, 8))\n",
    "\n",
    "r1 = data['Pclass'].value_counts().values\n",
    "r2 = data[data['Survived'] == 1]['Pclass'].value_counts().values\n",
    "width = 0.1\n",
    "x = np.arange(len(data['Pclass'].unique()))\n",
    "rect1 = ax1.bar(x - width / 2, r1, label = \"Total number\", color = \"#b59d9b\", edgecolor = \"#3d0909\", linewidth = 0.5)\n",
    "rect2 = ax1.bar(x - width / 2, r2, label = \"Number of survived\", color = \"#f1f1f1\", edgecolor = \"#3d0909\", linewidth = 0.5)\n",
    "ax1.set_xticks(x)\n",
    "ax1.set_xticklabels([str(x) + ' class' for x in data['Pclass'].value_counts().index])\n",
    "ax1.set_title(\"Number of passengers survived depending on passenger class\")\n",
    "ax1.set_ylabel(\"Number of passengers\")\n",
    "ax1.legend(frameon = False)\n",
    "ax1.get_yaxis().set_visible(False)\n",
    "ax1.spines['right'].set_visible(False)\n",
    "ax1.spines['left'].set_visible(False)\n",
    "ax1.spines['top'].set_visible(False)\n",
    "\n",
    "for rect1, rect2 in zip(rect1, rect2):\n",
    "    height1 = rect1.get_height()\n",
    "    height2 = rect2.get_height()\n",
    "    ax1.annotate(\"{}\".format(height1), xy = (rect1.get_x() + rect1.get_width() / 2, height1), \n",
    "                    xytext = (0, 3), textcoords = \"offset points\", ha = \"center\", va = \"bottom\") \n",
    "    ax1.annotate(\"{} ({}%)\".format(height2, int(round(height2*100/height1, 0))), xy = (rect2.get_x() + rect2.get_width() / 2, \n",
    "                    height2), xytext = (0, 3), textcoords = \"offset points\", ha = \"center\", va = \"bottom\", color = \"#ffffff\")\n",
    "    \n",
    "r1 = data['Embarked'].dropna().value_counts().values\n",
    "r2 = data[data['Survived'] == 1]['Embarked'].dropna().value_counts().values\n",
    "width = 0.1\n",
    "x = np.arange(len(data['Embarked'].dropna().unique()))\n",
    "rect1 = ax2.bar(x - width / 2, r1, label = \"Total number\", color = \"#b59d9b\", edgecolor = \"#3d0909\", linewidth = 0.5)\n",
    "rect2 = ax2.bar(x - width / 2, r2, label = \"Number of survived\", color = \"#f1f1f1\", edgecolor = \"#3d0909\", linewidth = 0.5)\n",
    "ax2.set_xticks(x)\n",
    "ax2.set_xticklabels(data['Embarked'].value_counts().index)\n",
    "ax2.set_title(\"Number of passengers survived depending on place of embarkment\")\n",
    "ax2.set_ylabel(\"Number of passengers\")\n",
    "ax2.legend(frameon = False)\n",
    "ax2.get_yaxis().set_visible(False)\n",
    "ax2.spines['right'].set_visible(False)\n",
    "ax2.spines['left'].set_visible(False)\n",
    "ax2.spines['top'].set_visible(False)\n",
    "\n",
    "for rect1, rect2 in zip(rect1, rect2):\n",
    "    height1 = rect1.get_height()\n",
    "    height2 = rect2.get_height()\n",
    "    ax2.annotate(\"{}\".format(height1), xy = (rect1.get_x() + rect1.get_width() / 2, height1), \n",
    "                    xytext = (0, 3), textcoords = \"offset points\", ha = \"center\", va = \"bottom\") \n",
    "    ax2.annotate(\"{} ({}%)\".format(height2, int(round(height2*100/height1, 0))), xy = (rect2.get_x() + rect2.get_width() / 2, \n",
    "                    height2), xytext = (0, 3), textcoords = \"offset points\", ha = \"center\", va = \"bottom\", color = \"#ffffff\")\n",
    "    \n",
    "plt.show()"
   ]
  },
  {
   "cell_type": "markdown",
   "metadata": {},
   "source": [
    "Based on the left graph above, the safest class is '1 class' since 50% of these passengers survived. According to the right graph above, the safest place of embarkment was 'C', since 75% of passengers from this port survived."
   ]
  },
  {
   "cell_type": "markdown",
   "metadata": {},
   "source": [
    "### Modelling"
   ]
  },
  {
   "cell_type": "markdown",
   "metadata": {},
   "source": [
    "**(0.5 points)** Find the percentage of missing values for each feature. "
   ]
  },
  {
   "cell_type": "code",
   "execution_count": 49,
   "metadata": {},
   "outputs": [
    {
     "data": {
      "text/html": [
       "<div>\n",
       "<style scoped>\n",
       "    .dataframe tbody tr th:only-of-type {\n",
       "        vertical-align: middle;\n",
       "    }\n",
       "\n",
       "    .dataframe tbody tr th {\n",
       "        vertical-align: top;\n",
       "    }\n",
       "\n",
       "    .dataframe thead th {\n",
       "        text-align: right;\n",
       "    }\n",
       "</style>\n",
       "<table border=\"1\" class=\"dataframe\">\n",
       "  <thead>\n",
       "    <tr style=\"text-align: right;\">\n",
       "      <th></th>\n",
       "      <th>Survived</th>\n",
       "      <th>Pclass</th>\n",
       "      <th>Name</th>\n",
       "      <th>Sex</th>\n",
       "      <th>Age</th>\n",
       "      <th>SibSp</th>\n",
       "      <th>Parch</th>\n",
       "      <th>Ticket</th>\n",
       "      <th>Fare</th>\n",
       "      <th>Cabin</th>\n",
       "      <th>Embarked</th>\n",
       "    </tr>\n",
       "  </thead>\n",
       "  <tbody>\n",
       "    <tr>\n",
       "      <th>Number  of missing values</th>\n",
       "      <td>0.0</td>\n",
       "      <td>0.0</td>\n",
       "      <td>0.0</td>\n",
       "      <td>0.0</td>\n",
       "      <td>3292.000</td>\n",
       "      <td>0.0</td>\n",
       "      <td>0.0</td>\n",
       "      <td>4623.000</td>\n",
       "      <td>134.000</td>\n",
       "      <td>67866.000</td>\n",
       "      <td>250.00</td>\n",
       "    </tr>\n",
       "    <tr>\n",
       "      <th>Percentage of missing values</th>\n",
       "      <td>0.0</td>\n",
       "      <td>0.0</td>\n",
       "      <td>0.0</td>\n",
       "      <td>0.0</td>\n",
       "      <td>3.292</td>\n",
       "      <td>0.0</td>\n",
       "      <td>0.0</td>\n",
       "      <td>4.623</td>\n",
       "      <td>0.134</td>\n",
       "      <td>67.866</td>\n",
       "      <td>0.25</td>\n",
       "    </tr>\n",
       "  </tbody>\n",
       "</table>\n",
       "</div>"
      ],
      "text/plain": [
       "                              Survived  Pclass  Name  Sex       Age  SibSp  \\\n",
       "Number  of missing values          0.0     0.0   0.0  0.0  3292.000    0.0   \n",
       "Percentage of missing values       0.0     0.0   0.0  0.0     3.292    0.0   \n",
       "\n",
       "                              Parch    Ticket     Fare      Cabin  Embarked  \n",
       "Number  of missing values       0.0  4623.000  134.000  67866.000    250.00  \n",
       "Percentage of missing values    0.0     4.623    0.134     67.866      0.25  "
      ]
     },
     "execution_count": 49,
     "metadata": {},
     "output_type": "execute_result"
    }
   ],
   "source": [
    "m = len(data)\n",
    "number = data.isna().sum()\n",
    "percentage = 100 * data.isna().sum() / m\n",
    "missing_values = pd.DataFrame(data = [number, percentage], \n",
    "                              index = ['Number  of missing values', 'Percentage of missing values'])\n",
    "missing_values"
   ]
  },
  {
   "cell_type": "markdown",
   "metadata": {},
   "source": [
    "Think about the ways to handle these missing values for modelling and write your answer below. Which methods would you suggest? What are their advantages and disadvantages?"
   ]
  },
  {
   "cell_type": "markdown",
   "metadata": {},
   "source": [
    "There are 5 features with missing points in the dataset. Each feature will be prepared separatly using different methods for missing values filling."
   ]
  },
  {
   "cell_type": "code",
   "execution_count": 50,
   "metadata": {},
   "outputs": [],
   "source": [
    "# Fare missing values filling\n",
    "# Determine average prices for ticket of each class. These information can be used to fill gaps in 'Fare' column of the dataset\n",
    "\n",
    "class_fare = data.groupby(['Pclass'])['Fare'].mean()\n",
    "\n",
    "# Fill the Fare column of the dataset with mean price of the ticket according to the ticket class\n",
    "\n",
    "data['Fare'] = data.apply((lambda df: class_fare.loc[df['Pclass']]\n",
    "                                               if pd.isnull(df['Fare']) else df['Fare']), axis = 1)"
   ]
  },
  {
   "cell_type": "code",
   "execution_count": 51,
   "metadata": {},
   "outputs": [],
   "source": [
    "# Embarked missing values filling\n",
    "# Determine most common place of embarkment for survived and deceased passengers. \n",
    "\n",
    "survived_embarked = data.groupby(['Sex'])['Embarked'].value_counts()\n",
    "\n",
    "survived = dict({(survived_embarked.index[i][0], survived_embarked.index[i][1]) for i in range(0, 6, 2)})\n",
    "\n",
    "data['Embarked'] = data.apply((lambda df: survived[df['Sex']]\n",
    "                                               if pd.isnull(df['Embarked']) else df['Embarked']), axis = 1)"
   ]
  },
  {
   "cell_type": "code",
   "execution_count": 52,
   "metadata": {},
   "outputs": [],
   "source": [
    "# Analyse the column 'Age'. Check if there are fractional numbers. It is more reasonable to express age as an integer\n",
    "\n",
    "data['Age'] = data['Age'].apply(lambda v: int(v) if pd.notna(v) else np.nan)\n",
    "\n",
    "# The values that lower than 1 can indicate the infants, otherwise they are erroneous\n",
    "# To check whether these values are indeed infants, check if they have parents onboard. Infants can't travel by themselves\n",
    "\n",
    "zeros = data[data['Age'] == 0]\n",
    "not_infants = data[(data['Parch'] == 0) & (data['Age'] == 0)]\n",
    "\n",
    "# Replace zero age values related to adults with random values in the range of one standard deviation of the age distribution\n",
    "\n",
    "mean = int(data['Age'].mean()) \n",
    "std = int(data['Age'].std())\n",
    "\n",
    "for v in data['Age'][(data['Parch'] == 0) & (data['Age'] == 0)]:\n",
    "    v = random.randint(mean - std, mean + std)\n",
    "    \n",
    "# Replace nan values with random values in range of one standard deviation of the age distribution\n",
    "\n",
    "data['Age'].fillna(random.randint(mean - std, mean + std), inplace = True)"
   ]
  },
  {
   "cell_type": "code",
   "execution_count": 53,
   "metadata": {},
   "outputs": [],
   "source": [
    "# It can be noticed that cabin number has alphabetic prefix, which could be correlated with ticket class\n",
    "# Extract cabin class as a separate variable\n",
    "\n",
    "data['Cabin class'] = data['Cabin'].apply(lambda s: s[0] if pd.notnull(s) else np.nan)\n",
    "data['Cabin number'] = data['Cabin'].apply(lambda s: s[1:] if pd.notnull(s) else np.nan)\n",
    "data.drop(columns = ['Cabin'], inplace = True)"
   ]
  },
  {
   "cell_type": "code",
   "execution_count": 54,
   "metadata": {},
   "outputs": [],
   "source": [
    "# Cabin missing values filling\n",
    "# Determine most common cabin class for survived and deceased passengers. \n",
    "\n",
    "survived_cabin = data.groupby(['Pclass'])['Cabin class'].value_counts()\n",
    "\n",
    "survived_cabin = dict({(survived_cabin.index[i][0], survived_cabin.index[i][1]) for i in range(0, 24, 8)})\n",
    "\n",
    "data['Cabin class'] = data.apply((lambda df: survived_cabin[df['Pclass']]\n",
    "                                               if pd.isnull(df['Cabin class']) else df['Cabin class']), axis = 1)\n",
    "\n",
    "mean_cabin = data['Cabin number'].dropna().astype('int64').mean()\n",
    "data['Cabin number'].fillna(mean_cabin, inplace = True)\n",
    "data['Cabin number'] = data['Cabin number'].astype('int64')"
   ]
  },
  {
   "cell_type": "code",
   "execution_count": 55,
   "metadata": {},
   "outputs": [],
   "source": [
    "# Ticket missing values filling\n",
    "\n",
    "data['Ticket'] = data['Ticket'].astype('str')\n",
    "data['Ticket'] = data.Ticket.apply(lambda x: re.sub(\"\\D\", \"\", x))\n",
    "data['Ticket'] = data.Ticket.apply(lambda x: np.nan if x == '' else x)\n",
    "mean_ticket = data['Ticket'].value_counts().index[1]\n",
    "data['Ticket'].fillna(mean_ticket, inplace = True)"
   ]
  },
  {
   "cell_type": "code",
   "execution_count": 56,
   "metadata": {},
   "outputs": [
    {
     "data": {
      "text/html": [
       "<div>\n",
       "<style scoped>\n",
       "    .dataframe tbody tr th:only-of-type {\n",
       "        vertical-align: middle;\n",
       "    }\n",
       "\n",
       "    .dataframe tbody tr th {\n",
       "        vertical-align: top;\n",
       "    }\n",
       "\n",
       "    .dataframe thead th {\n",
       "        text-align: right;\n",
       "    }\n",
       "</style>\n",
       "<table border=\"1\" class=\"dataframe\">\n",
       "  <thead>\n",
       "    <tr style=\"text-align: right;\">\n",
       "      <th></th>\n",
       "      <th>Survived</th>\n",
       "      <th>Pclass</th>\n",
       "      <th>Name</th>\n",
       "      <th>Sex</th>\n",
       "      <th>Age</th>\n",
       "      <th>SibSp</th>\n",
       "      <th>Parch</th>\n",
       "      <th>Ticket</th>\n",
       "      <th>Fare</th>\n",
       "      <th>Embarked</th>\n",
       "      <th>Cabin class</th>\n",
       "      <th>Cabin number</th>\n",
       "    </tr>\n",
       "  </thead>\n",
       "  <tbody>\n",
       "    <tr>\n",
       "      <th>Number  of missing values</th>\n",
       "      <td>0.0</td>\n",
       "      <td>0.0</td>\n",
       "      <td>0.0</td>\n",
       "      <td>0.0</td>\n",
       "      <td>0.0</td>\n",
       "      <td>0.0</td>\n",
       "      <td>0.0</td>\n",
       "      <td>0.0</td>\n",
       "      <td>0.0</td>\n",
       "      <td>0.0</td>\n",
       "      <td>0.0</td>\n",
       "      <td>0.0</td>\n",
       "    </tr>\n",
       "    <tr>\n",
       "      <th>Percentage of missing values</th>\n",
       "      <td>0.0</td>\n",
       "      <td>0.0</td>\n",
       "      <td>0.0</td>\n",
       "      <td>0.0</td>\n",
       "      <td>0.0</td>\n",
       "      <td>0.0</td>\n",
       "      <td>0.0</td>\n",
       "      <td>0.0</td>\n",
       "      <td>0.0</td>\n",
       "      <td>0.0</td>\n",
       "      <td>0.0</td>\n",
       "      <td>0.0</td>\n",
       "    </tr>\n",
       "  </tbody>\n",
       "</table>\n",
       "</div>"
      ],
      "text/plain": [
       "                              Survived  Pclass  Name  Sex  Age  SibSp  Parch  \\\n",
       "Number  of missing values          0.0     0.0   0.0  0.0  0.0    0.0    0.0   \n",
       "Percentage of missing values       0.0     0.0   0.0  0.0  0.0    0.0    0.0   \n",
       "\n",
       "                              Ticket  Fare  Embarked  Cabin class  \\\n",
       "Number  of missing values        0.0   0.0       0.0          0.0   \n",
       "Percentage of missing values     0.0   0.0       0.0          0.0   \n",
       "\n",
       "                              Cabin number  \n",
       "Number  of missing values              0.0  \n",
       "Percentage of missing values           0.0  "
      ]
     },
     "execution_count": 56,
     "metadata": {},
     "output_type": "execute_result"
    }
   ],
   "source": [
    "# Check missing values after filling\n",
    "\n",
    "m = len(data)\n",
    "number = data.isna().sum()\n",
    "percentage = 100 * data.isna().sum() / m\n",
    "missing_values = pd.DataFrame(data = [number, percentage], \n",
    "                              index = ['Number  of missing values', 'Percentage of missing values'])\n",
    "missing_values"
   ]
  },
  {
   "cell_type": "markdown",
   "metadata": {},
   "source": [
    "**(1.5 points)** Prepare the features and train two models (KNN and Logistic Regression) to predict the survival. Compare the results. Use accuracy as a metric. Don't forget about cross-validation!"
   ]
  },
  {
   "cell_type": "code",
   "execution_count": 57,
   "metadata": {},
   "outputs": [],
   "source": [
    "# Convert category values in numbers\n",
    "\n",
    "data['Sex'] = data['Sex'].map({'male': 0, 'female': 1})\n",
    "data['Embarked'] = data['Embarked'].map({'S': 0, 'C': 1, 'Q': 2})\n",
    "data['Cabin class'] = data['Cabin class'].map({'C': 0, 'E': 1, 'A': 2, 'D': 3, 'B': 4, 'F': 5, 'G': 6, 'T': 7})"
   ]
  },
  {
   "cell_type": "code",
   "execution_count": 58,
   "metadata": {},
   "outputs": [
    {
     "name": "stdout",
     "output_type": "stream",
     "text": [
      "Shape of input features: (100000, 10)\n",
      "Shape of target values: (100000,)\n"
     ]
    }
   ],
   "source": [
    "# Training set and target values\n",
    "\n",
    "X_train = data.drop(columns = ['Name', 'Survived'])\n",
    "y_train = data['Survived']\n",
    "\n",
    "print('Shape of input features:', X_train.shape)\n",
    "print('Shape of target values:', y_train.shape)"
   ]
  },
  {
   "cell_type": "code",
   "execution_count": 59,
   "metadata": {},
   "outputs": [],
   "source": [
    "# Scale the input data\n",
    "\n",
    "scaler = MinMaxScaler(feature_range = (0, 7))\n",
    "x_scaled = scaler.fit_transform(X_train[['Age', 'Fare', 'Cabin number', 'Ticket']])\n",
    "x_scaled = np.hstack((x_scaled, X_train.drop(columns = ['Age', 'Fare', 'Cabin number', 'Ticket'])))"
   ]
  },
  {
   "cell_type": "code",
   "execution_count": 60,
   "metadata": {},
   "outputs": [
    {
     "name": "stdout",
     "output_type": "stream",
     "text": [
      "Logistic regression accuracy:  0.76054\n"
     ]
    }
   ],
   "source": [
    "# Logistic Regression\n",
    "\n",
    "log_model_cv = LogisticRegressionCV(Cs = 100, cv = 5, class_weight = 'balanced', \n",
    "                                    tol=0.00000001, max_iter = 100000, random_state=42)\n",
    "log_model_cv.fit(x_scaled, y_train)\n",
    "logreg_score = log_model_cv.score(x_scaled, y_train)\n",
    "print('Logistic regression accuracy: ', logreg_score)"
   ]
  },
  {
   "cell_type": "code",
   "execution_count": 61,
   "metadata": {},
   "outputs": [
    {
     "name": "stdout",
     "output_type": "stream",
     "text": [
      "KNN accuracy:  0.99965\n"
     ]
    }
   ],
   "source": [
    "# K nearest neighbors\n",
    "\n",
    "knn_model = KNeighborsClassifier(n_neighbors = 10, weights='distance')\n",
    "knn_model.fit(x_scaled, y_train)\n",
    "knn_score = knn_model.score(x_scaled, y_train)\n",
    "print('KNN accuracy: ', knn_score)"
   ]
  },
  {
   "cell_type": "markdown",
   "metadata": {},
   "source": [
    "**(0.5 + X points)** Try more feature engineering and hyperparameter tuning to improve the results. You may use either KNN or Logistic Regression (or both)."
   ]
  },
  {
   "cell_type": "code",
   "execution_count": 62,
   "metadata": {},
   "outputs": [],
   "source": [
    "# Combine features SibSp and Parch into one feature\n",
    "\n",
    "data['Accompany'] = data['SibSp'] + data['Parch']\n",
    "data.drop(columns = ['SibSp', 'Parch'], inplace = True)"
   ]
  },
  {
   "cell_type": "code",
   "execution_count": 63,
   "metadata": {},
   "outputs": [],
   "source": [
    "# Try model without column 'Ticket' and 'Cabin number'\n",
    "\n",
    "X_train = data.drop(columns = ['Name', 'Survived'])\n",
    "y_train = data['Survived']\n",
    "\n",
    "scaler = MinMaxScaler(feature_range = (0, 7))\n",
    "x_scaled = scaler.fit_transform(X_train[['Age', 'Fare']])\n",
    "x_scaled = np.hstack((x_scaled, X_train.drop(columns = ['Age', 'Fare', 'Cabin number', 'Ticket'])))"
   ]
  },
  {
   "cell_type": "code",
   "execution_count": 64,
   "metadata": {},
   "outputs": [
    {
     "name": "stdout",
     "output_type": "stream",
     "text": [
      "Logistic regression training accuracy:  0.76045\n"
     ]
    }
   ],
   "source": [
    "# Logistic Regression\n",
    "\n",
    "log_model_cv = LogisticRegressionCV(Cs = 100, cv = 5, class_weight = 'balanced', \n",
    "                                    tol=0.00000001, max_iter = 100000, random_state=42)\n",
    "log_model_cv.fit(x_scaled, y_train)\n",
    "logreg_score = log_model_cv.score(x_scaled, y_train)\n",
    "print('Logistic regression training accuracy: ', logreg_score)"
   ]
  },
  {
   "cell_type": "markdown",
   "metadata": {},
   "source": [
    "Model performance became better with combined features 'SibSp' and 'Parch'. Additionally try to tune logistic regression model to get better peformance."
   ]
  },
  {
   "cell_type": "code",
   "execution_count": 65,
   "metadata": {},
   "outputs": [
    {
     "data": {
      "text/plain": [
       "GridSearchCV(estimator=LogisticRegressionCV(cv=2, random_state=42),\n",
       "             param_grid=[{'Cs': [80, 95, 99], 'class_weight': ['balanced'],\n",
       "                          'penalty': ['l2']}],\n",
       "             scoring='accuracy')"
      ]
     },
     "execution_count": 65,
     "metadata": {},
     "output_type": "execute_result"
    }
   ],
   "source": [
    "log_reg = LogisticRegressionCV(max_iter = 100, cv = 2, random_state=42)\n",
    "\n",
    "param = [{'penalty': ['l2'], 'Cs': [80, 95, 99], 'class_weight': ['balanced']}\n",
    "        ]\n",
    "\n",
    "grid_search = GridSearchCV(log_reg, param, scoring = 'accuracy')\n",
    "grid_search.fit(x_scaled, y_train)"
   ]
  },
  {
   "cell_type": "code",
   "execution_count": 66,
   "metadata": {},
   "outputs": [
    {
     "name": "stdout",
     "output_type": "stream",
     "text": [
      "Best parameters:  {'Cs': 80, 'class_weight': 'balanced', 'penalty': 'l2'}\n"
     ]
    }
   ],
   "source": [
    "params = grid_search.best_params_\n",
    "print('Best parameters: ', params)"
   ]
  },
  {
   "cell_type": "code",
   "execution_count": 67,
   "metadata": {},
   "outputs": [
    {
     "name": "stdout",
     "output_type": "stream",
     "text": [
      "Logistic regression best training score:  0.76039\n"
     ]
    }
   ],
   "source": [
    "log_reg_best = LogisticRegressionCV(max_iter = 10000, cv = 6, Cs = params['Cs'], \n",
    "                                  class_weight = params['class_weight'], \n",
    "                                  penalty = params['penalty'], random_state=42)\n",
    "log_reg_best.fit(x_scaled, y_train)\n",
    "log_reg_best_score = log_reg_best.score(x_scaled, y_train)\n",
    "print('Logistic regression best training score: ',  log_reg_best_score)"
   ]
  },
  {
   "cell_type": "code",
   "execution_count": 68,
   "metadata": {},
   "outputs": [
    {
     "data": {
      "text/plain": [
       "GridSearchCV(cv=5,\n",
       "             estimator=SGDClassifier(loss='log', max_iter=100, random_state=42,\n",
       "                                     tol=1e-08),\n",
       "             param_grid=[{'alpha': [0.002, 0.005, 0.01, 0.05],\n",
       "                          'class_weight': ['balanced'], 'penalty': ['l2'],\n",
       "                          'power_t': [0.05, 0.1, 0.2, 0.5]}],\n",
       "             scoring='accuracy')"
      ]
     },
     "execution_count": 68,
     "metadata": {},
     "output_type": "execute_result"
    }
   ],
   "source": [
    "log_reg = SGDClassifier(max_iter = 100, random_state=42,  loss = 'log', learning_rate = 'optimal', tol = 0.00000001)\n",
    "\n",
    "param = [{'penalty': ['l2'], 'class_weight': ['balanced'], 'alpha': [0.002, 0.005, 0.01, 0.05],\n",
    "          'power_t': [0.05, 0.1, 0.2, 0.5]}]\n",
    "\n",
    "grid_search = GridSearchCV(log_reg, param, cv = 5, scoring = 'accuracy')\n",
    "grid_search.fit(x_scaled, y_train)"
   ]
  },
  {
   "cell_type": "code",
   "execution_count": 69,
   "metadata": {},
   "outputs": [
    {
     "name": "stdout",
     "output_type": "stream",
     "text": [
      "Best parameters:  {'alpha': 0.01, 'class_weight': 'balanced', 'penalty': 'l2', 'power_t': 0.05}\n"
     ]
    }
   ],
   "source": [
    "params = grid_search.best_params_\n",
    "print('Best parameters: ', params)"
   ]
  },
  {
   "cell_type": "code",
   "execution_count": 70,
   "metadata": {},
   "outputs": [
    {
     "name": "stdout",
     "output_type": "stream",
     "text": [
      "Logistic regression best training score:  0.76174\n"
     ]
    }
   ],
   "source": [
    "log_reg_best = SGDClassifier(max_iter = 10000, loss = 'log', alpha = params['alpha'], tol = 0.00000001,\n",
    "                                  class_weight = params['class_weight'], power_t = params['power_t'],\n",
    "                                  penalty = params['penalty'], random_state=42)\n",
    "log_reg_best.fit(x_scaled, y_train)\n",
    "log_reg_best_score = log_reg_best.score(x_scaled, y_train)\n",
    "print('Logistic regression best training score: ',  log_reg_best_score)"
   ]
  },
  {
   "cell_type": "markdown",
   "metadata": {},
   "source": [
    "Select the best model, load the test set and make the predictions. Submit them to kaggle and see the results :)\n",
    "\n",
    "**Note**. X points will depend on your kaggle public leaderboard score.\n",
    "$$ f(score) = 1.0, \\ \\ 0.79 \\leq score < 0.80,$$\n",
    "$$ f(score) = 2.5, \\ \\ 0.80 \\leq score < 0.81,$$ \n",
    "$$ f(score) = 4.0, \\ \\ 0.81 \\leq score $$ \n",
    "Your code should generate the output submitted to kaggle. Fix random seeds to make the results reproducible."
   ]
  },
  {
   "cell_type": "code",
   "execution_count": 71,
   "metadata": {},
   "outputs": [],
   "source": [
    "data_test = pd.read_csv('test.csv')"
   ]
  },
  {
   "cell_type": "code",
   "execution_count": 72,
   "metadata": {},
   "outputs": [],
   "source": [
    "# Test data preprocessing \n",
    "\n",
    "data_test['Fare'] = data_test.apply((lambda df: class_fare.loc[df['Pclass']]\n",
    "                                               if pd.isnull(df['Fare']) else df['Fare']), axis = 1)\n",
    "    \n",
    "data_test['Embarked'] = data_test.apply((lambda df: survived[df['Sex']]\n",
    "                                               if pd.isnull(df['Embarked']) else df['Embarked']), axis = 1)\n",
    "    \n",
    "data_test['Age'] = data['Age'].apply(lambda v: int(v) if pd.notna(v) else np.nan)\n",
    "    \n",
    "for v in data_test['Age'][(data_test['Parch'] == 0) & (data_test['Age'] == 0)]:\n",
    "    v = random.randint(mean - std, mean + std)\n",
    "    \n",
    "data_test['Age'].fillna(random.randint(mean - std, mean + std), inplace = True)\n",
    "    \n",
    "data_test['Cabin class'] = data_test['Cabin'].apply(lambda s: s[0] if pd.notnull(s) else np.nan)\n",
    "data_test['Cabin number'] = data_test['Cabin'].apply(lambda s: s[1:] if pd.notnull(s) else np.nan)\n",
    "data_test.drop(columns = ['Cabin'], inplace = True)\n",
    "    \n",
    "data_test['Cabin class'] = data_test.apply((lambda df: survived_cabin[df['Pclass']]\n",
    "                                               if pd.isnull(df['Cabin class']) else df['Cabin class']), axis = 1)\n",
    "\n",
    "data_test['Cabin number'].fillna(mean_cabin, inplace = True)\n",
    "data_test['Cabin number'] = data_test['Cabin number'].astype('int64')\n",
    "    \n",
    "data_test['Ticket'] = data_test['Ticket'].astype('str')\n",
    "data_test['Ticket'] = data_test.Ticket.apply(lambda x: re.sub(\"\\D\", \"\", x))\n",
    "data_test['Ticket'] = data.Ticket.apply(lambda x: np.nan if x == '' else x)\n",
    "data_test['Ticket'].fillna(mean_ticket, inplace = True)\n",
    "\n",
    "data_test['Accompany'] = data_test['SibSp'] + data_test['Parch']\n",
    "data_test.drop(columns = ['SibSp', 'Parch'], inplace = True)\n",
    "    \n",
    "data_test['Sex'] = data_test['Sex'].map({'male': 0, 'female': 1})\n",
    "data_test['Embarked'] = data_test['Embarked'].map({'S': 0, 'C': 1, 'Q': 2})\n",
    "data_test['Cabin class'] = data_test['Cabin class'].map({'C': 0, 'E': 1, 'A': 2, 'D': 3, 'B': 4, 'F': 5, 'G': 6, 'T': 7})"
   ]
  },
  {
   "cell_type": "code",
   "execution_count": 73,
   "metadata": {},
   "outputs": [],
   "source": [
    "X_test = data_test.drop(columns = ['Name', 'PassengerId'])\n",
    "\n",
    "X_scaled_test = scaler.transform(X_test[['Age', 'Fare']])\n",
    "X_scaled_test = np.hstack((X_scaled_test, X_test.drop(columns = ['Age', 'Fare', 'Cabin number', 'Ticket'])))"
   ]
  },
  {
   "cell_type": "code",
   "execution_count": 74,
   "metadata": {},
   "outputs": [],
   "source": [
    "prediction_test = log_reg_best.predict(X_scaled_test)"
   ]
  },
  {
   "cell_type": "code",
   "execution_count": 75,
   "metadata": {},
   "outputs": [],
   "source": [
    "# Create submission file for Kaggle\n",
    "\n",
    "result = pd.DataFrame(data_test['PassengerId'])\n",
    "prediction = pd.Series(prediction_test, name = 'Survived')\n",
    "result = result.join(prediction).set_index(['PassengerId'])\n",
    "result.to_csv('submission.csv')"
   ]
  },
  {
   "cell_type": "markdown",
   "metadata": {},
   "source": [
    "According to Kaggle, the model shows 0.801 score on the test set."
   ]
  }
 ],
 "metadata": {
  "kernelspec": {
   "display_name": "Python 3 (ipykernel)",
   "language": "python",
   "name": "python3"
  },
  "language_info": {
   "codemirror_mode": {
    "name": "ipython",
    "version": 3
   },
   "file_extension": ".py",
   "mimetype": "text/x-python",
   "name": "python",
   "nbconvert_exporter": "python",
   "pygments_lexer": "ipython3",
   "version": "3.9.7"
  }
 },
 "nbformat": 4,
 "nbformat_minor": 4
}
